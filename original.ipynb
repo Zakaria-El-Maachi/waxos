{
 "cells": [
  {
   "cell_type": "code",
   "execution_count": 1,
   "metadata": {},
   "outputs": [
    {
     "name": "stderr",
     "output_type": "stream",
     "text": [
      "c:\\Users\\Apo\\anaconda3\\envs\\MLearning\\Lib\\site-packages\\pandas\\core\\arrays\\masked.py:60: UserWarning: Pandas requires version '1.3.6' or newer of 'bottleneck' (version '1.3.5' currently installed).\n",
      "  from pandas.core import (\n"
     ]
    }
   ],
   "source": [
    "import pandas as pd\n",
    "import numpy as np\n",
    "import matplotlib.pyplot as plt"
   ]
  },
  {
   "cell_type": "code",
   "execution_count": 2,
   "metadata": {},
   "outputs": [],
   "source": [
    "df = pd.read_csv(\"Morocco.csv\")\n",
    "df['datetime'] = pd.to_datetime(df['datetime'])\n",
    "irrelevant_columns = ['description', 'severerisk', 'preciptype', 'sunrise', 'sunset', 'stations']\n",
    "df.drop(columns=irrelevant_columns, inplace=True)\n",
    "df.rename(columns={'name': 'item_id', \"datetime\" : \"timestamp\"}, inplace=True)"
   ]
  },
  {
   "cell_type": "code",
   "execution_count": 3,
   "metadata": {},
   "outputs": [],
   "source": [
    "df.drop(columns=[\"conditions\"], inplace=True)\n",
    "df = pd.get_dummies(df, columns=['icon'])"
   ]
  },
  {
   "cell_type": "code",
   "execution_count": 4,
   "metadata": {},
   "outputs": [],
   "source": [
    "from autogluon.timeseries import TimeSeriesPredictor\n",
    "train_data = df.iloc[:int(0.9 * len(df))]\n",
    "test_data = df.iloc[int(0.9 * len(df)):]"
   ]
  },
  {
   "cell_type": "code",
   "execution_count": 5,
   "metadata": {},
   "outputs": [],
   "source": [
    "predictor = TimeSeriesPredictor(target='precip', \n",
    "                                prediction_length=4,\n",
    "                                freq='D')"
   ]
  },
  {
   "cell_type": "code",
   "execution_count": 6,
   "metadata": {},
   "outputs": [
    {
     "name": "stderr",
     "output_type": "stream",
     "text": [
      "Beginning AutoGluon training...\n",
      "AutoGluon will save models to 'AutogluonModels\\ag-20240509_114722'\n",
      "=================== System Info ===================\n",
      "AutoGluon Version:  1.0.0\n",
      "Python Version:     3.11.5\n",
      "Operating System:   Windows\n",
      "Platform Machine:   AMD64\n",
      "Platform Version:   10.0.22631\n",
      "CPU Count:          16\n",
      "GPU Count:          0\n",
      "Memory Avail:       21.76 GB / 31.86 GB (68.3%)\n",
      "Disk Space Avail:   249.64 GB / 602.62 GB (41.4%)\n",
      "===================================================\n",
      "\n",
      "Fitting with arguments:\n",
      "{'enable_ensemble': True,\n",
      " 'eval_metric': WQL,\n",
      " 'freq': 'D',\n",
      " 'hyperparameters': 'default',\n",
      " 'known_covariates_names': [],\n",
      " 'num_val_windows': 1,\n",
      " 'prediction_length': 4,\n",
      " 'quantile_levels': [0.1, 0.2, 0.3, 0.4, 0.5, 0.6, 0.7, 0.8, 0.9],\n",
      " 'random_seed': 123,\n",
      " 'refit_every_n_windows': 1,\n",
      " 'refit_full': False,\n",
      " 'target': 'precip',\n",
      " 'verbosity': 2}\n",
      "\n",
      "Provided train_data has 1781 rows, 1 time series. Median time series length is 1781 (min=1781, max=1781). \n",
      "\n",
      "Provided dataset contains following columns:\n",
      "\ttarget:           'precip'\n",
      "\tpast covariates:  ['tempmax', 'tempmin', 'temp', 'feelslikemax', 'feelslikemin', 'feelslike', 'dew', 'humidity', 'precipprob', 'precipcover', 'snow', 'snowdepth', 'windgust', 'windspeed', 'winddir', 'sealevelpressure', 'cloudcover', 'visibility', 'solarradiation', 'solarenergy', 'uvindex', 'moonphase', 'icon_clear-day', 'icon_cloudy', 'icon_partly-cloudy-day', 'icon_rain', 'icon_wind']\n",
      "\n",
      "AutoGluon will gauge predictive performance using evaluation metric: 'WQL'\n",
      "\tThis metric's sign has been flipped to adhere to being higher_is_better. The metric score can be multiplied by -1 to get the metric value.\n",
      "===================================================\n",
      "\n",
      "Starting training. Start time is 2024-05-09 13:47:52\n",
      "Models that will be trained: ['SeasonalNaive', 'CrostonSBA', 'NPTS', 'AutoETS', 'DynamicOptimizedTheta', 'AutoARIMA', 'RecursiveTabular', 'DirectTabular', 'DeepAR', 'TemporalFusionTransformer', 'PatchTST']\n",
      "Training timeseries model SeasonalNaive. \n",
      "\t-14.7612      = Validation score (-WQL)\n",
      "\t0.01    s     = Training runtime\n",
      "\t5.92    s     = Validation (prediction) runtime\n",
      "Training timeseries model CrostonSBA. \n",
      "\t-2.6274       = Validation score (-WQL)\n",
      "\t0.02    s     = Training runtime\n",
      "\t25.25   s     = Validation (prediction) runtime\n",
      "Training timeseries model NPTS. \n",
      "\t-0.9611       = Validation score (-WQL)\n",
      "\t0.02    s     = Training runtime\n",
      "\t4.66    s     = Validation (prediction) runtime\n",
      "Training timeseries model AutoETS. \n",
      "\t-30.9178      = Validation score (-WQL)\n",
      "\t0.03    s     = Training runtime\n",
      "\t59.45   s     = Validation (prediction) runtime\n",
      "Training timeseries model DynamicOptimizedTheta. \n",
      "\t-28.2795      = Validation score (-WQL)\n",
      "\t0.02    s     = Training runtime\n",
      "\t70.32   s     = Validation (prediction) runtime\n",
      "Training timeseries model AutoARIMA. \n",
      "\t-16.3234      = Validation score (-WQL)\n",
      "\t0.02    s     = Training runtime\n",
      "\t35.67   s     = Validation (prediction) runtime\n",
      "Training timeseries model RecursiveTabular. \n",
      "\t-47.9573      = Validation score (-WQL)\n",
      "\t16.33   s     = Training runtime\n",
      "\t1.83    s     = Validation (prediction) runtime\n",
      "Training timeseries model DirectTabular. \n",
      "\t-34.1993      = Validation score (-WQL)\n",
      "\t3.93    s     = Training runtime\n",
      "\t0.12    s     = Validation (prediction) runtime\n",
      "Training timeseries model DeepAR. \n",
      "\t-0.8239       = Validation score (-WQL)\n",
      "\t51.79   s     = Training runtime\n",
      "\t0.05    s     = Validation (prediction) runtime\n",
      "Training timeseries model TemporalFusionTransformer. \n",
      "\t-1.1330       = Validation score (-WQL)\n",
      "\t1038.65 s     = Training runtime\n",
      "\t0.02    s     = Validation (prediction) runtime\n",
      "Training timeseries model PatchTST. \n",
      "\t-0.8175       = Validation score (-WQL)\n",
      "\t77.48   s     = Training runtime\n",
      "\t0.02    s     = Validation (prediction) runtime\n",
      "Fitting simple weighted ensemble.\n",
      "\tEnsemble weights: {'CrostonSBA': 0.08, 'DeepAR': 0.05, 'NPTS': 0.05, 'PatchTST': 0.82}\n",
      "\t-0.6876       = Validation score (-WQL)\n",
      "\t1.08    s     = Training runtime\n",
      "\t29.98   s     = Validation (prediction) runtime\n",
      "Training complete. Models trained: ['SeasonalNaive', 'CrostonSBA', 'NPTS', 'AutoETS', 'DynamicOptimizedTheta', 'AutoARIMA', 'RecursiveTabular', 'DirectTabular', 'DeepAR', 'TemporalFusionTransformer', 'PatchTST', 'WeightedEnsemble']\n",
      "Total runtime: 1393.92 s\n",
      "Best model: WeightedEnsemble\n",
      "Best model score: -0.6876\n",
      "Model not specified in predict, will default to the model with the best validation score: WeightedEnsemble\n"
     ]
    },
    {
     "name": "stdout",
     "output_type": "stream",
     "text": [
      "===================================\n",
      "\n",
      "\n",
      "{'WQL': -inf}\n"
     ]
    }
   ],
   "source": [
    "predictor.fit(train_data)\n",
    "print(\"===================================\\n\\n\")\n",
    "\n",
    "\n",
    "performance = predictor.evaluate(test_data)\n",
    "print(performance)"
   ]
  },
  {
   "cell_type": "code",
   "execution_count": null,
   "metadata": {},
   "outputs": [],
   "source": []
  }
 ],
 "metadata": {
  "kernelspec": {
   "display_name": "MLearning",
   "language": "python",
   "name": "python3"
  },
  "language_info": {
   "codemirror_mode": {
    "name": "ipython",
    "version": 3
   },
   "file_extension": ".py",
   "mimetype": "text/x-python",
   "name": "python",
   "nbconvert_exporter": "python",
   "pygments_lexer": "ipython3",
   "version": "3.11.5"
  }
 },
 "nbformat": 4,
 "nbformat_minor": 2
}
